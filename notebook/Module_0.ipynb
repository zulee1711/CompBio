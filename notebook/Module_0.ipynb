{
 "cells": [
  {
   "metadata": {
    "ExecuteTime": {
     "end_time": "2024-05-21T02:29:07.080703Z",
     "start_time": "2024-05-21T02:29:07.059153Z"
    }
   },
   "cell_type": "code",
   "source": "from src.display import mm",
   "id": "864124af0374c8c0",
   "outputs": [],
   "execution_count": 3
  },
  {
   "metadata": {},
   "cell_type": "markdown",
   "source": [
    "# Module 0: Molecular Biology\n",
    "## 1. Central Dogma of Biology"
   ],
   "id": "eb31805b650f6204"
  },
  {
   "metadata": {},
   "cell_type": "markdown",
   "source": "**Central Dogma of Biology** is how genetic info is stored and interpreted in the cell. ",
   "id": "9e25528c9e1015f1"
  },
  {
   "metadata": {
    "ExecuteTime": {
     "end_time": "2024-05-21T02:47:21.913599Z",
     "start_time": "2024-05-21T02:47:21.910308Z"
    }
   },
   "cell_type": "code",
   "source": [
    "mm(\"\"\"\n",
    "flowchart LR\n",
    "    O[Genetic code of an organism] --stored--> A[DNA]\n",
    "    subgraph Central Dogma\n",
    "        direction TB\n",
    "        A[DNA] --transcribe--> B[RNA] --translate--> C[Protein]\n",
    "    end\n",
    "    C[Protein] --carry out--> D[Cellular functions] \n",
    "\"\"\")"
   ],
   "id": "50c8afdf26b0311",
   "outputs": [
    {
     "data": {
      "text/html": [
       "<img src=\"https://mermaid.ink/img/CmZsb3djaGFydCBMUgogICAgT1tHZW5ldGljIGNvZGUgb2YgYW4gb3JnYW5pc21dIC0tc3RvcmVkLS0+IEFbRE5BXQogICAgc3ViZ3JhcGggQ2VudHJhbCBEb2dtYQogICAgICAgIGRpcmVjdGlvbiBUQgogICAgICAgIEFbRE5BXSAtLXRyYW5zY3JpYmUtLT4gQltSTkFdIC0tdHJhbnNsYXRlLS0+IENbUHJvdGVpbl0KICAgIGVuZAogICAgQ1tQcm90ZWluXSAtLWNhcnJ5IG91dC0tPiBEW0NlbGx1bGFyIGZ1bmN0aW9uc10K\"/>"
      ],
      "text/plain": [
       "<IPython.core.display.Image object>"
      ]
     },
     "metadata": {},
     "output_type": "display_data"
    }
   ],
   "execution_count": 15
  },
  {
   "metadata": {},
   "cell_type": "markdown",
   "source": [
    "Cellular functions includes:\n",
    "* motility,\n",
    "* metabolism,\n",
    "* DNA regulation,\n",
    "* replication, \n",
    "* etc.."
   ],
   "id": "5b555d3c19851d1f"
  },
  {
   "metadata": {},
   "cell_type": "markdown",
   "source": [
    "**Note:**\n",
    "\n",
    "Though the central dogma holds true in most situations, there are a number of notable exceptions to the\n",
    "model.\n",
    "* retroviruses are able to generate DNA from RNA via reverse-transcription.\n",
    "* some viruses are so primitive that they do not even have DNA, instead only using RNA to make protein."
   ],
   "id": "cab5d11f338a8159"
  },
  {
   "metadata": {},
   "cell_type": "markdown",
   "source": [
    "The central dogma is sometimes **<span style=\"color:red\">incorrectly</span>** interpreted too strongly. For example:\n",
    "   * DNA only stores immutable information from one generation to the next that remains identical within a generation,\n",
    "   * RNA only used as a temporary information transfer medium, \n",
    "   * proteins are the only molecule that can carry out complex actions.\n",
    "Again, there are many exceptions to this interpretation. For example:\n",
    "   * Somatic mutations can alter the DNA within a generation, and different cells can have different DNA content.\n",
    "   * Some cells undergo programmed DNA alterations during maturation, resulting in different DNA content.\n",
    "    * most famously, the B and T immunity while blood cells\n",
    "  * Epigenetic modifications of the DNA can be inherited from one generation to the next.\n",
    "  * RNA can play many diverse roles in gene regulation, metabolic sensing, and enzymatic reactions. These functions were previously thought to be limited to proteins.\n",
    "  * Proteins themselves can undergo conformational changes that are epigenetically inherited\n",
    "    * notably, prion states were famously responsible for mad cow disease."
   ],
   "id": "6c0e7d1b92b76b4c"
  },
  {
   "metadata": {},
   "cell_type": "markdown",
   "source": [
    "## 2. DNA\n",
    "### 2.1 DNA Function\n",
    "- DNA molecular stores genetic information of an organism\n",
    "- DNA contains regions includes\n",
    " - genes - have instructions needed to build proteins\n",
    " - regulatory elements - *partially* influence the level of gene expression\n",
    "\n",
    " => DNA's genetic code contains **BOTH** proteins' data that need to be encode & control circuitry in the form of regulatory motifs"
   ],
   "id": "f218112d79659c96"
  },
  {
   "metadata": {},
   "cell_type": "markdown",
   "source": [
    "### 2.2 DNA Structure\n",
    "- DNA composed of 4 **nucleotides**:\n",
    "    - A : Adenine\n",
    "    - C : Cytosine\n",
    "    - T : Thymine\n",
    "    - G : Guanine  \n",
    "- A and G are purines => have two rings\n",
    "- C and T are pyrimidines => have one ring\n",
    "- A and T are connected by two hydrogen bonds\n",
    "- C and G are connected by three bonds\n",
    "=> A-T pairing is weaker than C-G pairing "
   ],
   "id": "54ab1a4b97d998e9"
  },
  {
   "metadata": {
    "ExecuteTime": {
     "end_time": "2024-05-21T04:22:49.170508Z",
     "start_time": "2024-05-21T04:22:49.167172Z"
    }
   },
   "cell_type": "code",
   "source": [
    "mm(\"\"\"\n",
    "flowchart TB\n",
    "    A[A] -. 2 hydrogen <br/> bonds .- C[T]\n",
    "    A[A] --purines--- D[G]\n",
    "    B[C] --pyrimidine--- C[T]\n",
    "    B[C] -. 3 hydrogen <br/> bonds .-D[G]\n",
    "\"\"\")"
   ],
   "id": "c5542f0fa1b01f5d",
   "outputs": [
    {
     "data": {
      "text/html": [
       "<img src=\"https://mermaid.ink/img/CmZsb3djaGFydCBUQgogICAgQVtBXSAtLiAyIGh5ZHJvZ2VuIDxici8+IGJvbmRzIC4tIENbVF0KICAgIEFbQV0gLS1wdXJpbmVzLS0tIERbR10KICAgIEJbQ10gLS1weXJpbWlkaW5lLS0tIENbVF0KICAgIEJbQ10gLS4gMyBoeWRyb2dlbiA8YnIvPiBib25kcyAuLURbR10K\"/>"
      ],
      "text/plain": [
       "<IPython.core.display.Image object>"
      ]
     },
     "metadata": {},
     "output_type": "display_data"
    }
   ],
   "execution_count": 35
  },
  {
   "metadata": {},
   "cell_type": "markdown",
   "source": "",
   "id": "9f5c5653b1c0c290"
  },
  {
   "metadata": {},
   "cell_type": "markdown",
   "source": "",
   "id": "dab4802122ca045a"
  },
  {
   "metadata": {},
   "cell_type": "code",
   "outputs": [],
   "execution_count": null,
   "source": "",
   "id": "7303293de14b0395"
  },
  {
   "metadata": {},
   "cell_type": "code",
   "outputs": [],
   "execution_count": null,
   "source": "",
   "id": "c2eacf4e0aeb49cb"
  }
 ],
 "metadata": {
  "kernelspec": {
   "display_name": "Python 3",
   "language": "python",
   "name": "python3"
  },
  "language_info": {
   "codemirror_mode": {
    "name": "ipython",
    "version": 2
   },
   "file_extension": ".py",
   "mimetype": "text/x-python",
   "name": "python",
   "nbconvert_exporter": "python",
   "pygments_lexer": "ipython2",
   "version": "2.7.6"
  }
 },
 "nbformat": 4,
 "nbformat_minor": 5
}
